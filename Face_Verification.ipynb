{
 "cells": [
  {
   "cell_type": "code",
   "execution_count": 1,
   "id": "0c6432fa",
   "metadata": {},
   "outputs": [
    {
     "name": "stdout",
     "output_type": "stream",
     "text": [
      "Found 244 images belonging to 16 classes.\n",
      "Found 244 images belonging to 16 classes.\n"
     ]
    },
    {
     "data": {
      "text/plain": [
       "{'face1': 0,\n",
       " 'face10': 1,\n",
       " 'face11': 2,\n",
       " 'face12': 3,\n",
       " 'face13': 4,\n",
       " 'face14': 5,\n",
       " 'face15': 6,\n",
       " 'face16': 7,\n",
       " 'face2': 8,\n",
       " 'face3': 9,\n",
       " 'face4': 10,\n",
       " 'face5': 11,\n",
       " 'face6': 12,\n",
       " 'face7': 13,\n",
       " 'face8': 14,\n",
       " 'face9': 15}"
      ]
     },
     "execution_count": 1,
     "metadata": {},
     "output_type": "execute_result"
    }
   ],
   "source": [
    "# Deep Learning CNN model to recognize face\n",
    "'''This script uses a database of images and creates CNN model on top of it to test\n",
    "   if the given image is recognized correctly or not'''\n",
    "\n",
    "'''####### IMAGE PRE-PROCESSING for TRAINING and TESTING data #######'''\n",
    "\n",
    "# Specifying the folder where images are present\n",
    "TrainingImagePath = 'Face Images/Final Training Images'\n",
    "\n",
    "from keras.preprocessing.image import ImageDataGenerator\n",
    "# Understand more about ImageDataGenerator at below link\n",
    "# https://blog.keras.io/building-powerful-image-classification-models-using-very-little-data.html\n",
    "\n",
    "# Defining pre-processing transformations on raw images of training data\n",
    "# These hyper parameters helps to generate slightly twisted versions\n",
    "# of the original image, which leads to a better model, since it learns\n",
    "# on the good and bad mix of images\n",
    "train_datagen = ImageDataGenerator(\n",
    "        shear_range=0.1,\n",
    "        zoom_range=0.1,\n",
    "        horizontal_flip=True)\n",
    "\n",
    "# Defining pre-processing transformations on raw images of testing data\n",
    "# No transformations are done on the testing images\n",
    "test_datagen = ImageDataGenerator()\n",
    "\n",
    "# Generating the Training Data\n",
    "training_set = train_datagen.flow_from_directory(\n",
    "        TrainingImagePath,\n",
    "        target_size=(64, 64),\n",
    "        batch_size=8,\n",
    "        class_mode='categorical')\n",
    "\n",
    "\n",
    "# Generating the Testing Data\n",
    "test_set = test_datagen.flow_from_directory(\n",
    "        TrainingImagePath,\n",
    "        target_size=(64, 64),\n",
    "        batch_size=8,\n",
    "        class_mode='categorical')\n",
    "\n",
    "# Printing class labels for each face\n",
    "test_set.class_indices"
   ]
  },
  {
   "cell_type": "code",
   "execution_count": 2,
   "id": "55129d13",
   "metadata": {},
   "outputs": [
    {
     "name": "stdout",
     "output_type": "stream",
     "text": [
      "Mapping of Face and its ID {0: 'face1', 1: 'face10', 2: 'face11', 3: 'face12', 4: 'face13', 5: 'face14', 6: 'face15', 7: 'face16', 8: 'face2', 9: 'face3', 10: 'face4', 11: 'face5', 12: 'face6', 13: 'face7', 14: 'face8', 15: 'face9'}\n",
      "\n",
      " The Number of output neurons:  16\n"
     ]
    }
   ],
   "source": [
    "'''############ Creating lookup table for all faces ############'''\n",
    "# class_indices have the numeric tag for each face\n",
    "TrainClasses=training_set.class_indices\n",
    "\n",
    "# Storing the face and the numeric tag for future reference\n",
    "ResultMap={}\n",
    "for faceValue,faceName in zip(TrainClasses.values(),TrainClasses.keys()):\n",
    "    ResultMap[faceValue]=faceName\n",
    "\n",
    "# Saving the face map for future reference\n",
    "import pickle\n",
    "with open(\"ResultsMap.pkl\", 'wb') as fileWriteStream:\n",
    "    pickle.dump(ResultMap, fileWriteStream)\n",
    "\n",
    "# The model will give answer as a numeric tag\n",
    "# This mapping will help to get the corresponding face name for it\n",
    "print(\"Mapping of Face and its ID\",ResultMap)\n",
    "\n",
    "# The number of neurons for the output layer is equal to the number of faces\n",
    "OutputNeurons=len(ResultMap)\n",
    "print('\\n The Number of output neurons: ', OutputNeurons)"
   ]
  },
  {
   "cell_type": "code",
   "execution_count": 3,
   "id": "7e2e6f6b",
   "metadata": {},
   "outputs": [
    {
     "name": "stdout",
     "output_type": "stream",
     "text": [
      "Epoch 1/10\n",
      "30/30 [==============================] - 3s 71ms/step - loss: 44.0663 - accuracy: 0.1000 - val_loss: 2.1177 - val_accuracy: 0.3625\n",
      "Epoch 2/10\n",
      "30/30 [==============================] - 1s 48ms/step - loss: 1.9221 - accuracy: 0.4195 - val_loss: 1.0427 - val_accuracy: 0.6750\n",
      "Epoch 3/10\n",
      "30/30 [==============================] - 1s 48ms/step - loss: 1.0605 - accuracy: 0.7034 - val_loss: 0.9347 - val_accuracy: 0.7750\n",
      "Epoch 4/10\n",
      "30/30 [==============================] - 1s 48ms/step - loss: 0.8016 - accuracy: 0.7627 - val_loss: 0.4560 - val_accuracy: 0.8750\n",
      "Epoch 5/10\n",
      "30/30 [==============================] - 1s 47ms/step - loss: 0.6915 - accuracy: 0.8136 - val_loss: 0.2015 - val_accuracy: 0.9625\n",
      "Epoch 6/10\n",
      "30/30 [==============================] - 1s 48ms/step - loss: 0.4294 - accuracy: 0.8814 - val_loss: 0.4611 - val_accuracy: 0.8500\n",
      "Epoch 7/10\n",
      "30/30 [==============================] - 1s 48ms/step - loss: 0.4059 - accuracy: 0.8644 - val_loss: 0.2121 - val_accuracy: 0.9125\n",
      "Epoch 8/10\n",
      "30/30 [==============================] - 1s 50ms/step - loss: 0.3762 - accuracy: 0.8941 - val_loss: 0.3160 - val_accuracy: 0.9375\n",
      "Epoch 9/10\n",
      "30/30 [==============================] - 1s 49ms/step - loss: 0.2747 - accuracy: 0.8941 - val_loss: 0.0589 - val_accuracy: 0.9875\n",
      "Epoch 10/10\n",
      "30/30 [==============================] - 1s 49ms/step - loss: 0.2107 - accuracy: 0.9492 - val_loss: 0.1456 - val_accuracy: 0.9500\n",
      "###### Total Time Taken:  0 Minutes ######\n"
     ]
    }
   ],
   "source": [
    "'''######################## Create CNN deep learning model ########################'''\n",
    "from keras.models import Sequential\n",
    "from keras.layers import Convolution2D\n",
    "from keras.layers import MaxPool2D\n",
    "from keras.layers import Flatten\n",
    "from keras.layers import Dense\n",
    "\n",
    "'''Initializing the Convolutional Neural Network'''\n",
    "classifier= Sequential()\n",
    "\n",
    "''' STEP--1 Convolution\n",
    "# Adding the first layer of CNN\n",
    "# we are using the format (64,64,3) because we are using TensorFlow backend\n",
    "# It means 3 matrix of size (64X64) pixels representing Red, Green and Blue components of pixels\n",
    "'''\n",
    "classifier.add(Convolution2D(8, kernel_size=(5, 5), strides=(1, 1), input_shape=(64,64,3), activation='relu'))\n",
    "\n",
    "'''# STEP--2 MAX Pooling'''\n",
    "classifier.add(MaxPool2D(pool_size=(2,2)))\n",
    "\n",
    "'''############## ADDITIONAL LAYER of CONVOLUTION for better accuracy #################'''\n",
    "classifier.add(Convolution2D(64, kernel_size=(5, 5), strides=(1, 1), activation='relu'))\n",
    "\n",
    "classifier.add(MaxPool2D(pool_size=(2,2)))\n",
    "\n",
    "'''# STEP--3 FLattening'''\n",
    "classifier.add(Flatten())\n",
    "\n",
    "'''# STEP--4 Fully Connected Neural Network'''\n",
    "classifier.add(Dense(64, activation='relu'))\n",
    "\n",
    "classifier.add(Dense(OutputNeurons, activation='softmax'))\n",
    "\n",
    "'''# Compiling the CNN'''\n",
    "#classifier.compile(loss='binary_crossentropy', optimizer='adam', metrics=['accuracy'])\n",
    "classifier.compile(loss='categorical_crossentropy', optimizer = 'adam', metrics=[\"accuracy\"])\n",
    "\n",
    "###########################################################\n",
    "import time\n",
    "# Measuring the time taken by the model to train\n",
    "StartTime=time.time()\n",
    "\n",
    "# Starting the model training\n",
    "classifier.fit(\n",
    "                    training_set,\n",
    "                    steps_per_epoch=30,\n",
    "                    epochs=10,\n",
    "                    validation_data=test_set,\n",
    "                    validation_steps=10)\n",
    "\n",
    "EndTime=time.time()\n",
    "print(\"###### Total Time Taken: \", round((EndTime-StartTime)/60), 'Minutes ######')"
   ]
  },
  {
   "cell_type": "code",
   "execution_count": 4,
   "id": "0e1bbb0b",
   "metadata": {},
   "outputs": [
    {
     "name": "stdout",
     "output_type": "stream",
     "text": [
      "{'face1': 0, 'face10': 1, 'face11': 2, 'face12': 3, 'face13': 4, 'face14': 5, 'face15': 6, 'face16': 7, 'face2': 8, 'face3': 9, 'face4': 10, 'face5': 11, 'face6': 12, 'face7': 13, 'face8': 14, 'face9': 15}\n",
      "########################################\n",
      "Prediction is:  face4\n"
     ]
    }
   ],
   "source": [
    "'''########### Making single predictions ###########'''\n",
    "import numpy as np\n",
    "from tensorflow.keras.preprocessing import image\n",
    "\n",
    "ImagePath = 'Face Images/Final Testing Images/face4/3face4.jpg'\n",
    "test_image = image.load_img(ImagePath,target_size=(64, 64))\n",
    "test_image = image.img_to_array(test_image)\n",
    "\n",
    "test_image = np.expand_dims(test_image,axis=0)\n",
    "\n",
    "result=classifier.predict(test_image,verbose=0)\n",
    "print(training_set.class_indices)\n",
    "\n",
    "print('####'*10)\n",
    "print('Prediction is: ',ResultMap[np.argmax(result)])"
   ]
  },
  {
   "cell_type": "code",
   "execution_count": 5,
   "id": "e4731049",
   "metadata": {},
   "outputs": [
    {
     "name": "stdout",
     "output_type": "stream",
     "text": [
      "Found 64 images belonging to 16 classes.\n",
      "8/8 [==============================] - 0s 35ms/step\n"
     ]
    }
   ],
   "source": [
    "import numpy\n",
    "test_generator = ImageDataGenerator()\n",
    "test_data_path = 'Face Images/Final Testing Images'\n",
    "test_data_generator = test_generator.flow_from_directory(\n",
    "    test_data_path, # Put your path here\n",
    "     target_size=(64, 64),\n",
    "    batch_size=8,\n",
    "    shuffle=False)\n",
    "test_steps_per_epoch = numpy.math.ceil(test_data_generator.samples / test_data_generator.batch_size)\n",
    "\n",
    "predictions = classifier.predict(test_data_generator, steps=test_steps_per_epoch)\n",
    "# Get most likely class\n",
    "predicted_classes = numpy.argmax(predictions, axis=1)"
   ]
  },
  {
   "cell_type": "code",
   "execution_count": 6,
   "id": "9c1b10a3",
   "metadata": {},
   "outputs": [],
   "source": [
    "true_classes = test_data_generator.classes\n",
    "class_labels = list(test_data_generator.class_indices.keys())  "
   ]
  },
  {
   "cell_type": "code",
   "execution_count": 7,
   "id": "2d10a3c5",
   "metadata": {},
   "outputs": [
    {
     "name": "stdout",
     "output_type": "stream",
     "text": [
      "              precision    recall  f1-score   support\n",
      "\n",
      "       face1       1.00      0.75      0.86         4\n",
      "      face10       1.00      1.00      1.00         4\n",
      "      face11       0.80      1.00      0.89         4\n",
      "      face12       1.00      0.75      0.86         4\n",
      "      face13       1.00      0.75      0.86         4\n",
      "      face14       0.75      0.75      0.75         4\n",
      "      face15       1.00      1.00      1.00         4\n",
      "      face16       0.80      1.00      0.89         4\n",
      "       face2       1.00      0.75      0.86         4\n",
      "       face3       0.80      1.00      0.89         4\n",
      "       face4       0.80      1.00      0.89         4\n",
      "       face5       1.00      1.00      1.00         4\n",
      "       face6       1.00      1.00      1.00         4\n",
      "       face7       1.00      1.00      1.00         4\n",
      "       face8       1.00      0.75      0.86         4\n",
      "       face9       0.80      1.00      0.89         4\n",
      "\n",
      "    accuracy                           0.91        64\n",
      "   macro avg       0.92      0.91      0.91        64\n",
      "weighted avg       0.92      0.91      0.91        64\n",
      "\n"
     ]
    }
   ],
   "source": [
    "from sklearn import metrics\n",
    "report = metrics.classification_report(true_classes, predicted_classes, target_names=class_labels)\n",
    "print(report) "
   ]
  },
  {
   "cell_type": "code",
   "execution_count": 45,
   "id": "df59f4bc",
   "metadata": {},
   "outputs": [
    {
     "data": {
      "text/plain": [
       "Counter({0: 4,\n",
       "         1: 4,\n",
       "         2: 4,\n",
       "         3: 4,\n",
       "         4: 4,\n",
       "         5: 4,\n",
       "         6: 4,\n",
       "         7: 4,\n",
       "         8: 4,\n",
       "         9: 4,\n",
       "         10: 4,\n",
       "         11: 4,\n",
       "         12: 4,\n",
       "         13: 4,\n",
       "         14: 4,\n",
       "         15: 4})"
      ]
     },
     "execution_count": 45,
     "metadata": {},
     "output_type": "execute_result"
    }
   ],
   "source": [
    "from collections import Counter\n",
    "Counter(true_classes)\n"
   ]
  },
  {
   "cell_type": "code",
   "execution_count": 46,
   "id": "f0952015",
   "metadata": {},
   "outputs": [
    {
     "data": {
      "text/plain": [
       "Counter({0: 3,\n",
       "         9: 7,\n",
       "         1: 5,\n",
       "         2: 4,\n",
       "         3: 5,\n",
       "         4: 2,\n",
       "         12: 6,\n",
       "         5: 3,\n",
       "         7: 4,\n",
       "         13: 5,\n",
       "         8: 3,\n",
       "         11: 5,\n",
       "         10: 3,\n",
       "         15: 5,\n",
       "         14: 4})"
      ]
     },
     "execution_count": 46,
     "metadata": {},
     "output_type": "execute_result"
    }
   ],
   "source": [
    "Counter(predicted_classes)"
   ]
  }
 ],
 "metadata": {
  "kernelspec": {
   "display_name": "Python 3 (ipykernel)",
   "language": "python",
   "name": "python3"
  },
  "language_info": {
   "codemirror_mode": {
    "name": "ipython",
    "version": 3
   },
   "file_extension": ".py",
   "mimetype": "text/x-python",
   "name": "python",
   "nbconvert_exporter": "python",
   "pygments_lexer": "ipython3",
   "version": "3.9.13"
  }
 },
 "nbformat": 4,
 "nbformat_minor": 5
}
